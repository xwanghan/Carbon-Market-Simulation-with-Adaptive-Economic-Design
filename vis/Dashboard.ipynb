{
 "cells": [
  {
   "cell_type": "code",
   "execution_count": 1,
   "id": "c383eba8-f928-469f-83a2-12172e6876f0",
   "metadata": {},
   "outputs": [],
   "source": [
    "import gradio as gr\n",
    "import matplotlib.pyplot as plt\n",
    "import numpy as np\n",
    "import pandas as pd\n",
    "\n",
    "import json\n",
    "import lz4.frame\n",
    "import plot_world, plot_state\n",
    "from Carbon_simulator.foundation import landmarks, resources\n",
    "import seaborn as sns\n",
    "\n",
    "num_steps = 500\n",
    "n_agents = 5"
   ]
  },
  {
   "cell_type": "code",
   "execution_count": 2,
   "id": "70ce78a7-0b83-4fcc-9a69-4ab0bbe6fefb",
   "metadata": {},
   "outputs": [
    {
     "name": "stdout",
     "output_type": "stream",
     "text": [
      "loading test/2/marl/dense_logs/logs_00/env-02.lz4\n",
      "loading test/2/marl/dense_logs/logs_01/env-02.lz4\n",
      "loading test/2/marl/dense_logs/logs_02/env-02.lz4\n",
      "loading test/2/marl/dense_logs/logs_03/env-02.lz4\n",
      "loading test/2/marl/dense_logs/logs_04/env-02.lz4\n",
      "loading test/2/f_ge/dense_logs/logs_00/env-02.lz4\n",
      "loading test/2/f_ge/dense_logs/logs_01/env-02.lz4\n",
      "loading test/2/f_ge/dense_logs/logs_02/env-02.lz4\n",
      "loading test/2/f_ge/dense_logs/logs_03/env-02.lz4\n",
      "loading test/2/f_ge/dense_logs/logs_04/env-02.lz4\n",
      "loading test/2/c_ge/dense_logs/logs_00/env-02.lz4\n",
      "loading test/2/c_ge/dense_logs/logs_01/env-02.lz4\n",
      "loading test/2/c_ge/dense_logs/logs_02/env-02.lz4\n",
      "loading test/2/c_ge/dense_logs/logs_03/env-02.lz4\n",
      "loading test/2/c_ge/dense_logs/logs_04/env-02.lz4\n",
      "loading test/2/d_ge/dense_logs/logs_00/env-02.lz4\n",
      "loading test/2/d_ge/dense_logs/logs_01/env-02.lz4\n",
      "loading test/2/d_ge/dense_logs/logs_02/env-02.lz4\n",
      "loading test/2/d_ge/dense_logs/logs_03/env-02.lz4\n",
      "loading test/2/d_ge/dense_logs/logs_04/env-02.lz4\n",
      "loading test/2/f_gml/dense_logs/logs_00/env-02.lz4\n",
      "loading test/2/f_gml/dense_logs/logs_01/env-02.lz4\n",
      "loading test/2/f_gml/dense_logs/logs_02/env-02.lz4\n",
      "loading test/2/f_gml/dense_logs/logs_03/env-02.lz4\n",
      "loading test/2/f_gml/dense_logs/logs_04/env-02.lz4\n",
      "loading test/2/c_gml/dense_logs/logs_00/env-02.lz4\n",
      "loading test/2/c_gml/dense_logs/logs_01/env-02.lz4\n",
      "loading test/2/c_gml/dense_logs/logs_02/env-02.lz4\n",
      "loading test/2/c_gml/dense_logs/logs_03/env-02.lz4\n",
      "loading test/2/c_gml/dense_logs/logs_04/env-02.lz4\n",
      "loading test/2/d_gml/dense_logs/logs_00/env-02.lz4\n",
      "loading test/2/d_gml/dense_logs/logs_01/env-02.lz4\n",
      "loading test/2/d_gml/dense_logs/logs_02/env-02.lz4\n",
      "loading test/2/d_gml/dense_logs/logs_03/env-02.lz4\n",
      "loading test/2/d_gml/dense_logs/logs_04/env-02.lz4\n",
      "loading test/2/c/dense_logs/logs_00/env-02.lz4\n",
      "loading test/2/c/dense_logs/logs_01/env-02.lz4\n",
      "loading test/2/c/dense_logs/logs_02/env-02.lz4\n",
      "loading test/2/c/dense_logs/logs_03/env-02.lz4\n",
      "loading test/2/c/dense_logs/logs_04/env-02.lz4\n",
      "loading test/2/d/dense_logs/logs_00/env-02.lz4\n",
      "loading test/2/d/dense_logs/logs_01/env-02.lz4\n",
      "loading test/2/d/dense_logs/logs_02/env-02.lz4\n",
      "loading test/2/d/dense_logs/logs_03/env-02.lz4\n",
      "loading test/2/d/dense_logs/logs_04/env-02.lz4\n",
      "loading test/2/f/dense_logs/logs_00/env-02.lz4\n",
      "loading test/2/f/dense_logs/logs_01/env-02.lz4\n",
      "loading test/2/f/dense_logs/logs_02/env-02.lz4\n",
      "loading test/2/f/dense_logs/logs_03/env-02.lz4\n",
      "loading test/2/f/dense_logs/logs_04/env-02.lz4\n"
     ]
    }
   ],
   "source": [
    "logs = {}\n",
    "cmaps = {}\n",
    "for i in [\"marl\", \"f_ge\", \"c_ge\", \"d_ge\", \"f_gml\", \"c_gml\", \"d_gml\", \"c\", \"d\", \"f\"]:\n",
    "    logs[i] = []\n",
    "    cmaps[i] = []\n",
    "    for j in range(5):\n",
    "        filepath = \"test/2/{}/dense_logs/logs_0{}/env-02.lz4\".format(i, j)\n",
    "        print(\"loading test/2/{}/dense_logs/logs_0{}/env-02.lz4\".format(i, j))\n",
    "        with lz4.frame.open(filepath, mode=\"rb\", compression_level=16) as log_file:\n",
    "            logs[i].append(json.loads(bytes.decode(log_file.readlines()[0])))\n",
    "        states = logs[i][j][\"states\"][0]\n",
    "        skills = {}\n",
    "        for id in range(n_agents):\n",
    "            skills[id] = {\"Manufacture_volume\": states[str(id)]['Manufacture_volume'],\n",
    "                         \"Research_ability\": states[str(id)]['Research_ability']}\n",
    "        skill1 = sorted(skills, key=lambda k: skills[k]['Manufacture_volume'])\n",
    "        skill2 = sorted(skills, key=lambda k: skills[k]['Research_ability'])\n",
    "        cmaps[i].append(sns.cubehelix_palette(rot=0.5, hue=2, reverse=True, as_cmap=False, n_colors=len(skill1) + 1)[1:])"
   ]
  },
  {
   "cell_type": "code",
   "execution_count": 3,
   "id": "fa41f6d9-82f3-448c-aef9-5f7d9ccd2ccd",
   "metadata": {},
   "outputs": [
    {
     "data": {
      "text/plain": [
       "dict_keys(['marl', 'f_ge', 'c_ge', 'd_ge', 'f_gml', 'c_gml', 'd_gml', 'c', 'd', 'f'])"
      ]
     },
     "execution_count": 3,
     "metadata": {},
     "output_type": "execute_result"
    }
   ],
   "source": [
    "logs.keys()"
   ]
  },
  {
   "cell_type": "code",
   "execution_count": 4,
   "id": "3fe08c3c-7937-42b1-a719-9340f84fd112",
   "metadata": {},
   "outputs": [
    {
     "name": "stdout",
     "output_type": "stream",
     "text": [
      "Running on local URL:  http://127.0.0.1:7860\n",
      "\n",
      "To create a public link, set `share=True` in `launch()`.\n"
     ]
    },
    {
     "data": {
      "text/html": [
       "<div><iframe src=\"http://127.0.0.1:7860/\" width=\"100%\" height=\"500\" allow=\"autoplay; camera; microphone; clipboard-read; clipboard-write;\" frameborder=\"0\" allowfullscreen></iframe></div>"
      ],
      "text/plain": [
       "<IPython.core.display.HTML object>"
      ]
     },
     "metadata": {},
     "output_type": "display_data"
    },
    {
     "data": {
      "text/plain": []
     },
     "execution_count": 4,
     "metadata": {},
     "output_type": "execute_result"
    }
   ],
   "source": [
    "seed = 0\n",
    "dict1 = {\"Marl\":\"marl\", \n",
    "         \"Convex grandfathering\":\"c_ge\", \n",
    "         \"Decreasing grandfathering\":\"d_ge\", \n",
    "         \"Flat grandfathering\":\"f_ge\",\n",
    "         \"Conex benchmarking\":\"c_gml\",\n",
    "         \"Decreasing benchmarking\":\"d_gml\",\n",
    "         \"Flat benchmarking\":\"f_gml\",\n",
    "         \"Convex size indicator\":\"c\",\n",
    "         \"Decreasing size indicator\":\"d\",\n",
    "         \"Flat size indicator\":\"f\"}\n",
    "def plot(policy, step):\n",
    "    log = logs[dict1[policy]][seed]\n",
    "    cmap = cmaps[dict1[policy]][seed]\n",
    "    world_map = plot_world.vis_world_frames(log, 1, step)\n",
    "    skill_plot = plot_state.plot_skill(log, cmap)\n",
    "    action_df = plot_state.extract_action(log, step)\n",
    "    reward_plot = plot_state.plot_reward(log, step, cmap)\n",
    "    qota_plot = plot_state.plot_quota(log, step, cmap)\n",
    "    coin_plot = plot_state.plot_coins(log, step, cmap)\n",
    "    level_plot = plot_state.plot_level(log, step, cmap)\n",
    "    labor_plot = plot_state.plot_labor(log, step, cmap)\n",
    "    trade_plot = plot_state.plot_trade(log, step, cmap)\n",
    "    return world_map[0], skill_plot, action_df, reward_plot, qota_plot, coin_plot, level_plot, labor_plot, trade_plot\n",
    "\n",
    "def change_seed(policy, step):\n",
    "    global seed\n",
    "    seed = (seed+1)%4\n",
    "    log = logs[dict1[policy]][seed]\n",
    "    cmap = cmaps[dict1[policy]][seed]\n",
    "    world_map = plot_world.vis_world_frames(log, 1, step)\n",
    "    skill_plot = plot_state.plot_skill(log, cmap)\n",
    "    action_df = plot_state.extract_action(log, step)\n",
    "    reward_plot = plot_state.plot_reward(log, step, cmap)\n",
    "    qota_plot = plot_state.plot_quota(log, step, cmap)\n",
    "    coin_plot = plot_state.plot_coins(log, step, cmap)\n",
    "    level_plot = plot_state.plot_level(log, step, cmap)\n",
    "    labor_plot = plot_state.plot_labor(log, step, cmap)\n",
    "    trade_plot = plot_state.plot_trade(log, step, cmap)\n",
    "    return world_map[0], skill_plot, action_df, reward_plot, qota_plot, coin_plot, level_plot, labor_plot, trade_plot\n",
    "\n",
    "with gr.Blocks(theme=gr.themes.Soft()) as demo:\n",
    "    gr.Markdown(\"Carbon Market Simulator Dash Borad\")\n",
    "    with gr.Column():\n",
    "        with gr.Row(equal_height=True):\n",
    "            with gr.Column():\n",
    "                radio = gr.Radio([\"Marl\", \"Convex grandfathering\", \"Decreasing grandfathering\", \"Flat grandfathering\", \n",
    "         \"Conex benchmarking\", \"Decreasing benchmarking\", \"Flat benchmarking\", \n",
    "                    \"Convex size indicator\", \"Decreasing size indicator\", \"Flat size indicator\"], \n",
    "                                label=\"Select allocation policy\",\n",
    "                                value=\"marl\")\n",
    "                name = gr.Slider(0, num_steps - 1, label=\"Select Step\")\n",
    "                with gr.Row():\n",
    "                    play = gr.Button(\"Change seed\")\n",
    "            output3 = gr.Dataframe(label=\"Enterpises' actions\")\n",
    "        with gr.Row():\n",
    "            output2 = gr.Plot(label=\"Skills\", scale=1)\n",
    "            output1 = gr.Plot(label=\"Grid world\", scale=1)\n",
    "            output9 = gr.Plot(label=\"Carbon price\", scale=1)\n",
    "            output8 = gr.Plot(label=\"Reward\", scale=1)\n",
    "        with gr.Row():\n",
    "            output4 = gr.Plot(label=\"Carbon emission credits\")\n",
    "            output5 = gr.Plot(label=\"Coins\")\n",
    "            output6 = gr.Plot(label=\"Carbon emission level\")\n",
    "            output7 = gr.Plot(label=\"Labor\")\n",
    "                \n",
    "    name.change(fn=plot, inputs=[radio, name], outputs=[output1, output2, output3, output8, output4, output5, output6, output7, output9])\n",
    "    radio.change(fn=plot, inputs=[radio, name], outputs=[output1, output2, output3, output8, output4, output5, output6, output7, output9])\n",
    "    play.click(fn=change_seed, inputs=[radio, name], outputs=[output1, output2, output3, output8, output4, output5, output6, output7, output9])      \n",
    " \n",
    "demo.launch()"
   ]
  },
  {
   "cell_type": "code",
   "execution_count": null,
   "id": "564251c4-149d-4dd7-aabb-63a87eb59aeb",
   "metadata": {},
   "outputs": [],
   "source": []
  }
 ],
 "metadata": {
  "kernelspec": {
   "display_name": "Python 3 (ipykernel)",
   "language": "python",
   "name": "python3"
  },
  "language_info": {
   "codemirror_mode": {
    "name": "ipython",
    "version": 3
   },
   "file_extension": ".py",
   "mimetype": "text/x-python",
   "name": "python",
   "nbconvert_exporter": "python",
   "pygments_lexer": "ipython3",
   "version": "3.8.10"
  }
 },
 "nbformat": 4,
 "nbformat_minor": 5
}
